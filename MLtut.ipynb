{
 "cells": [
  {
   "cell_type": "markdown",
   "metadata": {},
   "source": [
    "Aprendizaje supervisado\n",
    "-----------------------\n",
    "\n",
    "(x -> features, y -> label)\n",
    "\n",
    "con muchos (xn, yn) se va a poder aprender una funcion que dado un x te devuelvan un y es decir f(x) = y\n",
    "\n",
    "Hay dos ramas en aprenizaje supervisado regrresion y clasificacion.\n",
    "\n",
    "*regresion*\n",
    "-----------\n",
    "\n",
    "\n",
    "Regresion se suele escribir como y = f(x)\n",
    "\n",
    "ejemplo: predecir el precio de una casa basado en caracteristicas como el area y la ubicacion\n",
    "\n",
    "*clasificacion*\n",
    "------------\n",
    "\n",
    "recibis una cantidad de feautes y tratas de predecir una clase\n",
    "\n",
    "ejemplo: clasificar hojas de soja en categorias sana, enferma, roida.\n",
    "\n"
   ]
  },
  {
   "cell_type": "markdown",
   "metadata": {},
   "source": [
    "Aprendijzae no supervisado\n",
    "--------------------------\n",
    "\n",
    "ya no tenemos la y, solamente tenemos la x. Vamos a hacer cosas solamente con la x\n",
    "\n",
    "ejemplo: agrupar noticias en temas similares sin etiquetas previas\n",
    "\n",
    "*Clustering*\n",
    "------------\n",
    "\n",
    "*Embedding*\n",
    "-----------"
   ]
  },
  {
   "cell_type": "markdown",
   "metadata": {},
   "source": [
    "Aprendizaje reforzado\n",
    "\n",
    "el agente vive adentro del ambiente, podes actuar adentro del ambiente. En los otros casos simplemente sacas la x del ambiente y la usas por separado.\n",
    "\n",
    "RL es bueno para solucionar problemas que no conocemos la solucion, pero podemos decir muy bien si estan solucionados (AKA reward function)"
   ]
  }
 ],
 "metadata": {
  "language_info": {
   "name": "python"
  },
  "orig_nbformat": 4
 },
 "nbformat": 4,
 "nbformat_minor": 2
}
