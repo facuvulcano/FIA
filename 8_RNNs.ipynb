{
  "cells": [
    {
      "cell_type": "code",
      "execution_count": null,
      "metadata": {
        "id": "39UkRK5z08xB"
      },
      "outputs": [],
      "source": [
        "import pandas as pd\n",
        "from sklearn.metrics import accuracy_score, ConfusionMatrixDisplay, confusion_matrix\n",
        "import numpy as np"
      ]
    },
    {
      "cell_type": "code",
      "execution_count": null,
      "metadata": {
        "id": "dlkZGHrJOSP0"
      },
      "outputs": [],
      "source": [
        "import json\n",
        "import requests\n",
        "\n",
        "dataset = []\n",
        "file = requests.get('https://github.com/rishabhmisra/News-Headlines-Dataset-For-Sarcasm-Detection/raw/master/Sarcasm_Headlines_Dataset.json').content.decode(\"utf-8\")\n",
        "for l in file.split(\"\\n\"):\n",
        "  if l:\n",
        "    dataset.append(json.loads(l))\n",
        "dataset = pd.DataFrame(dataset)"
      ]
    },
    {
      "cell_type": "code",
      "execution_count": null,
      "metadata": {
        "id": "f2YRvZxJPLGN"
      },
      "outputs": [],
      "source": [
        "dataset.sample(5)"
      ]
    },
    {
      "cell_type": "code",
      "execution_count": null,
      "metadata": {
        "id": "2DNoQoMEV20p"
      },
      "outputs": [],
      "source": [
        "len(dataset)"
      ]
    },
    {
      "cell_type": "markdown",
      "metadata": {
        "id": "TXTU2JuMV02X"
      },
      "source": [
        "# Ejemplos"
      ]
    },
    {
      "cell_type": "code",
      "execution_count": null,
      "metadata": {
        "colab": {
          "base_uri": "https://localhost:8080/"
        },
        "id": "8DSiRbG1PV5A",
        "outputId": "76fd4760-f5b2-4114-dec1-6eb6a92abcf3"
      },
      "outputs": [],
      "source": [
        "dataset[dataset['is_sarcastic'] == 1]['headline'].sample(10).tolist()"
      ]
    },
    {
      "cell_type": "code",
      "execution_count": null,
      "metadata": {
        "colab": {
          "base_uri": "https://localhost:8080/"
        },
        "id": "O5lJtJhxV9rq",
        "outputId": "131bab3b-51b4-4362-9fb5-f69789c20241"
      },
      "outputs": [],
      "source": [
        "dataset[dataset['is_sarcastic'] == 0]['headline'].sample(10).tolist()"
      ]
    },
    {
      "cell_type": "code",
      "execution_count": null,
      "metadata": {
        "id": "RYwrWZijPqHg"
      },
      "outputs": [],
      "source": [
        "dataset = dataset.sample(len(dataset))\n",
        "\n",
        "#10% for testing\n",
        "train = dataset.iloc[:9 * (len(dataset)//10)]\n",
        "test = dataset.iloc[9 * (len(dataset)//10):]"
      ]
    },
    {
      "cell_type": "markdown",
      "metadata": {
        "id": "RKhq6tK19EDC"
      },
      "source": [
        "# Cargo embeddings"
      ]
    },
    {
      "cell_type": "code",
      "execution_count": null,
      "metadata": {
        "id": "cc_zOScn2bI9"
      },
      "outputs": [],
      "source": [
        "from gensim.models import KeyedVectors\n",
        "from gensim import downloader\n",
        "\n",
        "downloader.load('word2vec-google-news-300')\n",
        "model = KeyedVectors.load_word2vec_format('GoogleNews-vectors-negative300.bin', binary=True)"
      ]
    },
    {
      "cell_type": "markdown",
      "metadata": {
        "id": "fHbtosSSLE7X"
      },
      "source": [
        "Nos quedamos solo con las palabras útiles en un set"
      ]
    },
    {
      "cell_type": "code",
      "execution_count": null,
      "metadata": {
        "id": "d2d4SuDELC-A"
      },
      "outputs": [],
      "source": [
        "import re\n",
        "\n",
        "TOKENIZER_REGEX = r\"\\w+(?:'\\w+)?|[^\\w\\s]\"\n",
        "\n",
        "palabras_utiles = set()\n",
        "\n",
        "for text in train['headline'].tolist():\n",
        "  palabras_utiles.update(re.findall(TOKENIZER_REGEX, text.lower()))"
      ]
    },
    {
      "cell_type": "code",
      "execution_count": null,
      "metadata": {
        "colab": {
          "base_uri": "https://localhost:8080/"
        },
        "id": "HDyBUI58LbYl",
        "outputId": "da67a745-ab0f-440f-8a5d-a4c59a4c5e32"
      },
      "outputs": [],
      "source": [
        "len(palabras_utiles)"
      ]
    },
    {
      "cell_type": "markdown",
      "metadata": {
        "id": "m3KJ4_1UAcYM"
      },
      "source": [
        "Extraemos los embeddings"
      ]
    },
    {
      "cell_type": "code",
      "execution_count": null,
      "metadata": {
        "id": "-tiOQDlsAY84"
      },
      "outputs": [],
      "source": [
        "key_to_index = {}\n",
        "embs = []\n",
        "\n",
        "for i in range(len(model)):\n",
        "  # Para ahorrar RAM, solo nos quedamos con el vector si es parte de las palabras utiles\n",
        "  if model.index_to_key[i] in palabras_utiles:\n",
        "    key_to_index[model.index_to_key[i]] = len(embs)\n",
        "    embs.append(model[model.index_to_key[i]])"
      ]
    },
    {
      "cell_type": "code",
      "execution_count": null,
      "metadata": {
        "id": "OXTUp-DaA5zP"
      },
      "outputs": [],
      "source": [
        "embs = np.asarray(embs)"
      ]
    },
    {
      "cell_type": "code",
      "execution_count": null,
      "metadata": {
        "colab": {
          "base_uri": "https://localhost:8080/"
        },
        "id": "6fYAZTojBCC0",
        "outputId": "261c6e97-674d-4c48-f98a-2c4afc766725"
      },
      "outputs": [],
      "source": [
        "embs.shape"
      ]
    },
    {
      "cell_type": "code",
      "execution_count": null,
      "metadata": {
        "id": "OhWJ76G3BuEj"
      },
      "outputs": [],
      "source": [
        "#ahorramos ram\n",
        "model = None\n",
        "palabras_utiles = None"
      ]
    },
    {
      "cell_type": "markdown",
      "metadata": {
        "id": "B4B8mem9A3Gq"
      },
      "source": [
        "Creamos un vector para la palabra deconocida usando el promedio de todas"
      ]
    },
    {
      "cell_type": "code",
      "execution_count": null,
      "metadata": {
        "id": "PcYnj7YNA93J"
      },
      "outputs": [],
      "source": [
        "unknown_emb = embs.mean(axis=0)"
      ]
    },
    {
      "cell_type": "code",
      "execution_count": null,
      "metadata": {
        "colab": {
          "base_uri": "https://localhost:8080/"
        },
        "id": "mboahOeVBAhH",
        "outputId": "56429a52-7ace-470d-dad9-e79fc5ff4136"
      },
      "outputs": [],
      "source": [
        "unknown_emb.shape"
      ]
    },
    {
      "cell_type": "markdown",
      "metadata": {
        "id": "Ozpqr06_BGV8"
      },
      "source": [
        "Creamos la matriz de embeddings, en el indice 0 contiene a un vector de 0s para indicar que no hay palabras, en el indice 1 contiene al vector de palabra desconocida y en el resto las palabras del embedding."
      ]
    },
    {
      "cell_type": "code",
      "execution_count": null,
      "metadata": {
        "colab": {
          "base_uri": "https://localhost:8080/"
        },
        "id": "fkYqR4wiBBj9",
        "outputId": "a1e98373-869b-422e-9351-6fc575e23db0"
      },
      "outputs": [],
      "source": [
        "embs = np.concatenate([np.zeros((1,300)), unknown_emb.reshape((1,300)), embs], axis=0)\n",
        "embs.shape"
      ]
    },
    {
      "cell_type": "markdown",
      "metadata": {
        "id": "JuFQfUdXABS3"
      },
      "source": [
        "Tokenizamos todos los textos y transformamos cada palabra en índice de la matriz"
      ]
    },
    {
      "cell_type": "code",
      "execution_count": null,
      "metadata": {
        "id": "HdXG6cVzAFGv"
      },
      "outputs": [],
      "source": [
        "X_train = []\n",
        "\n",
        "for text in train['headline'].tolist():\n",
        "  tokens = re.findall(TOKENIZER_REGEX, text.lower())\n",
        "  # Sumamos 2 por el vector de 0s y el de unknown\n",
        "  tokens = [key_to_index[t] + 2 if t in key_to_index else 1 for t in tokens]\n",
        "  X_train.append(tokens)"
      ]
    },
    {
      "cell_type": "code",
      "execution_count": null,
      "metadata": {
        "id": "4qnbHxdsATuZ"
      },
      "outputs": [],
      "source": [
        "X_test = []\n",
        "\n",
        "for text in test['headline'].tolist():\n",
        "  tokens = re.findall(TOKENIZER_REGEX, text.lower())\n",
        "  # Sumamos 2 por el vector de 0s y el de unknown\n",
        "  tokens = [key_to_index[t] + 2 if t in key_to_index else 1 for t in tokens]\n",
        "  X_test.append(tokens)"
      ]
    },
    {
      "cell_type": "code",
      "execution_count": null,
      "metadata": {
        "colab": {
          "base_uri": "https://localhost:8080/"
        },
        "id": "LqSTL2e2BZwr",
        "outputId": "b1400bed-f2f2-44ae-b3e1-30f2b58b250c"
      },
      "outputs": [],
      "source": [
        "print(train['headline'].tolist()[0])\n",
        "print(X_train[0])"
      ]
    },
    {
      "cell_type": "markdown",
      "metadata": {
        "id": "vCWdP5XvDHTL"
      },
      "source": [
        "Paddeamos los textos para que tengan todos el mismo largo"
      ]
    },
    {
      "cell_type": "code",
      "execution_count": null,
      "metadata": {
        "colab": {
          "base_uri": "https://localhost:8080/"
        },
        "id": "JxZHb49CDYL7",
        "outputId": "b9b9ef6c-0c42-436e-dd51-401707f358f5"
      },
      "outputs": [],
      "source": [
        "np.quantile([len(x) for x in X_train], 0.8)"
      ]
    },
    {
      "cell_type": "code",
      "execution_count": null,
      "metadata": {
        "id": "5-wVTUMTDNfv"
      },
      "outputs": [],
      "source": [
        "from tensorflow.keras.utils import pad_sequences"
      ]
    },
    {
      "cell_type": "code",
      "execution_count": null,
      "metadata": {
        "colab": {
          "base_uri": "https://localhost:8080/"
        },
        "id": "UOEnUNvcH5SW",
        "outputId": "b7078012-3ba6-43fa-be67-40dfaea7908a"
      },
      "outputs": [],
      "source": [
        "X_train = pad_sequences(X_train,maxlen=15,padding='post',truncating='post',value=0)\n",
        "X_test = pad_sequences(X_test,maxlen=15,padding='post',truncating='post',value=0)\n",
        "\n",
        "X_train.shape, X_test.shape"
      ]
    },
    {
      "cell_type": "code",
      "execution_count": null,
      "metadata": {
        "colab": {
          "base_uri": "https://localhost:8080/"
        },
        "id": "iIQlJVqFJR0o",
        "outputId": "27db8ce4-b619-4dfc-9c7f-5472e8f84905"
      },
      "outputs": [],
      "source": [
        "y_train = train['is_sarcastic'].values.reshape((-1, 1))\n",
        "y_test = test['is_sarcastic'].values.reshape((-1, 1))\n",
        "\n",
        "y_train.shape, y_test.shape"
      ]
    },
    {
      "cell_type": "code",
      "execution_count": null,
      "metadata": {
        "id": "Hlkj6B26CXoT"
      },
      "outputs": [],
      "source": [
        "from tensorflow.keras.layers import Input, Dense, GRU, Concatenate, Embedding, Masking\n",
        "from tensorflow.keras.optimizers import Adam\n",
        "from tensorflow.keras.models import Model\n",
        "from tensorflow.keras.callbacks import EarlyStopping\n"
      ]
    },
    {
      "cell_type": "code",
      "execution_count": null,
      "metadata": {
        "id": "Lr7CXMgKDF93"
      },
      "outputs": [],
      "source": [
        "inp = Input((15,), dtype='int32')\n",
        "# Ponemos que los embeddings no sean entrenables\n",
        "emb_layer = Embedding(input_dim=embs.shape[0], output_dim=embs.shape[1], weights=[embs], trainable=False)(inp)\n",
        "# Masking para cuando el vector es todo 0s, hace que la lectura de la RNN frene\n",
        "masking = Masking(0.0)(emb_layer)\n",
        "# Hacemos que la primer GRU devuelva todos los estados internos, como una secuencia nueva\n",
        "gru1 = GRU(64, return_sequences=True)(masking)\n",
        "# La segunda GRU solo devuelve el último estado interno\n",
        "gru2 = GRU(16)(gru1)\n",
        "out = Dense(1, activation='sigmoid')(gru2)\n",
        "model = Model(inputs=inp, outputs=out)"
      ]
    },
    {
      "cell_type": "code",
      "execution_count": null,
      "metadata": {
        "colab": {
          "base_uri": "https://localhost:8080/"
        },
        "id": "1ftWga0CJhJ7",
        "outputId": "4b5f98f9-24ae-411c-fcff-a524b3159ee5"
      },
      "outputs": [],
      "source": [
        "model.summary()"
      ]
    },
    {
      "cell_type": "code",
      "execution_count": null,
      "metadata": {
        "colab": {
          "base_uri": "https://localhost:8080/"
        },
        "id": "8ERTt9bsKMS8",
        "outputId": "b64e9983-fbca-4857-8aec-fd76ed9bc0e8"
      },
      "outputs": [],
      "source": [
        "model.compile(optimizer=Adam(0.001), loss='binary_crossentropy', metrics=['accuracy'])\n",
        "early_stop = EarlyStopping(monitor='val_loss', patience=2, restore_best_weights=True)\n",
        "model.fit(X_train, y_train, epochs=10, validation_split=0.1, callbacks=[early_stop])"
      ]
    },
    {
      "cell_type": "code",
      "execution_count": null,
      "metadata": {
        "colab": {
          "base_uri": "https://localhost:8080/"
        },
        "id": "75_0i_yBNT8X",
        "outputId": "ec455473-a194-45c3-d6a8-50a9004e3304"
      },
      "outputs": [],
      "source": [
        "preds = (model.predict(X_test) > 0.5).astype('int')"
      ]
    },
    {
      "cell_type": "code",
      "execution_count": null,
      "metadata": {
        "colab": {
          "base_uri": "https://localhost:8080/"
        },
        "id": "Kw7gFcImRxec",
        "outputId": "10e302fe-b3c0-458a-a9ad-9643eeb1eb4f"
      },
      "outputs": [],
      "source": [
        "accuracy_score(y_test, preds)"
      ]
    },
    {
      "cell_type": "markdown",
      "metadata": {
        "id": "KL6-iiVWWgm3"
      },
      "source": [
        "# Verdaderos positivos"
      ]
    },
    {
      "cell_type": "code",
      "execution_count": null,
      "metadata": {
        "colab": {
          "base_uri": "https://localhost:8080/"
        },
        "id": "gX0housEWite",
        "outputId": "7d95960b-138f-433a-bb98-b69792ab6482"
      },
      "outputs": [],
      "source": [
        "test['headline'].iloc[np.where((preds == 1) & (y_test == 1))[0]].sample(10).tolist()"
      ]
    },
    {
      "cell_type": "markdown",
      "metadata": {
        "id": "WSMJ7PfAWlY2"
      },
      "source": [
        "# Verdaderos negativos"
      ]
    },
    {
      "cell_type": "code",
      "execution_count": null,
      "metadata": {
        "colab": {
          "base_uri": "https://localhost:8080/"
        },
        "id": "wW9maw21WnHQ",
        "outputId": "fec0e865-f65d-45ec-cc6d-c177ad566d54"
      },
      "outputs": [],
      "source": [
        "test['headline'].iloc[np.where((preds == 0) & (y_test == 0))[0]].sample(10).tolist()"
      ]
    },
    {
      "cell_type": "markdown",
      "metadata": {
        "id": "ahsF-VfUVV8W"
      },
      "source": [
        "# Falsos positivos"
      ]
    },
    {
      "cell_type": "code",
      "execution_count": null,
      "metadata": {
        "colab": {
          "base_uri": "https://localhost:8080/"
        },
        "id": "B3H7DcyVUIPR",
        "outputId": "1c7d750e-66fa-42a1-ee27-a64251d545ed"
      },
      "outputs": [],
      "source": [
        "test['headline'].iloc[np.where((preds == 1) & (y_test == 0))[0]].sample(10).tolist()"
      ]
    },
    {
      "cell_type": "markdown",
      "metadata": {
        "id": "zfjaYPaiVowr"
      },
      "source": [
        "# Falsos negativos"
      ]
    },
    {
      "cell_type": "code",
      "execution_count": null,
      "metadata": {
        "colab": {
          "base_uri": "https://localhost:8080/"
        },
        "id": "Yw2-_dmOVdGV",
        "outputId": "2eb4dea7-47f9-4f70-c368-11a4f8fd5d89"
      },
      "outputs": [],
      "source": [
        "test['headline'].iloc[np.where((preds == 0) & (y_test == 1))[0]].sample(10).tolist()"
      ]
    },
    {
      "cell_type": "markdown",
      "metadata": {
        "id": "1jfrr6nGX2K1"
      },
      "source": [
        "# Ejemplo a mano\n",
        "\n",
        "Tomamos algunos titulares de \"reductress\", un medio que publica sarcasticamente como si fuera una revista \"para mujeres\""
      ]
    },
    {
      "cell_type": "code",
      "execution_count": null,
      "metadata": {
        "id": "M1zLl1d1WEYA"
      },
      "outputs": [],
      "source": [
        "EJEMPLOS = [\n",
        "    \"How I Live in the Moment by Making Sure No One Has Texted Me Every Five Minutes\",\n",
        "    \"Woman Insists She Only Drinks and Drives Socially\",\n",
        "    \"Future Trans Person Really Enjoying Halloween\",\n",
        "    \"Woman Gets Awesome Revenge on High School Bullies by Becoming Associate Account Manager\",\n",
        "    \"Adult Woman Starting to Realize Why Mom Was Like That\",\n",
        "    \"Woman Who Deleted One Social Media Platform Just Redistributing That Time Between All Others\"\n",
        "    ]"
      ]
    },
    {
      "cell_type": "code",
      "execution_count": null,
      "metadata": {
        "id": "hF01tqhEYm-B"
      },
      "outputs": [],
      "source": [
        "X_manual = []\n",
        "\n",
        "for text in EJEMPLOS:\n",
        "  tokens = re.findall(TOKENIZER_REGEX, text.lower())\n",
        "  # Sumamos 2 por el vector de 0s y el de unknown\n",
        "  tokens = [key_to_index[t] + 2 if t in key_to_index else 1 for t in tokens]\n",
        "  X_manual.append(tokens)\n",
        "\n",
        "X_manual = pad_sequences(X_manual,maxlen=15,padding='post',truncating='post',value=0)"
      ]
    },
    {
      "cell_type": "code",
      "execution_count": null,
      "metadata": {
        "colab": {
          "base_uri": "https://localhost:8080/"
        },
        "id": "mtw_U--uYs9o",
        "outputId": "d52e33a3-6e85-490f-a558-1dec5f4b5960"
      },
      "outputs": [],
      "source": [
        "for t, score in zip(EJEMPLOS, model.predict(X_manual)):\n",
        "  print(f\"\\\"{t}\\\" -> {score[0]}\")"
      ]
    },
    {
      "cell_type": "markdown",
      "metadata": {
        "id": "GIr1Q__AY6KX"
      },
      "source": [
        "Tomamos titulares de la CNN de hoy"
      ]
    },
    {
      "cell_type": "code",
      "execution_count": null,
      "metadata": {
        "id": "5na8yJomYwyN"
      },
      "outputs": [],
      "source": [
        "EJEMPLOS = [\n",
        "    \"Trump testifies in New York civil fraud trial\",\n",
        "    \"The nonstop sparring match between the conservative justice and liberal Biden attorney at the Supreme Court\",\n",
        "    \"Israel-Hamas war rages as outcry grows over Gaza crisis\",\n",
        "    \"He left his White evangelical bubble. Here’s what he says it would take for others to do the same\",\n",
        "    \"Two more companies recall cinnamon applesauce pouches due to potential lead contamination\",\n",
        "    \"Katy Perry dedicates final Las Vegas show to daughter Daisy Dove \"\n",
        "    ]"
      ]
    },
    {
      "cell_type": "code",
      "execution_count": null,
      "metadata": {
        "id": "b8lHuzbFY8_0"
      },
      "outputs": [],
      "source": [
        "X_manual = []\n",
        "\n",
        "for text in EJEMPLOS:\n",
        "  tokens = re.findall(TOKENIZER_REGEX, text.lower())\n",
        "  # Sumamos 2 por el vector de 0s y el de unknown\n",
        "  tokens = [key_to_index[t] + 2 if t in key_to_index else 1 for t in tokens]\n",
        "  X_manual.append(tokens)\n",
        "\n",
        "X_manual = pad_sequences(X_manual,maxlen=15,padding='post',truncating='post',value=0)"
      ]
    },
    {
      "cell_type": "code",
      "execution_count": null,
      "metadata": {
        "colab": {
          "base_uri": "https://localhost:8080/"
        },
        "id": "KbOHOe-WY967",
        "outputId": "c95a6117-8ff4-47a8-85a9-0ee90dc4c1f6"
      },
      "outputs": [],
      "source": [
        "for t, score in zip(EJEMPLOS, model.predict(X_manual)):\n",
        "  print(f\"\\\"{t}\\\" -> {score[0]}\")"
      ]
    }
  ],
  "metadata": {
    "colab": {
      "provenance": []
    },
    "kernelspec": {
      "display_name": "Python 3",
      "name": "python3"
    },
    "language_info": {
      "codemirror_mode": {
        "name": "ipython",
        "version": 3
      },
      "file_extension": ".py",
      "mimetype": "text/x-python",
      "name": "python",
      "nbconvert_exporter": "python",
      "pygments_lexer": "ipython3",
      "version": "3.11.4"
    }
  },
  "nbformat": 4,
  "nbformat_minor": 0
}
