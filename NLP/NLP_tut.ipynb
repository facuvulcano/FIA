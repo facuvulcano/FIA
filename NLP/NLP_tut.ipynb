{
 "cells": [
  {
   "cell_type": "code",
   "execution_count": null,
   "metadata": {},
   "outputs": [],
   "source": []
  },
  {
   "cell_type": "markdown",
   "metadata": {},
   "source": [
    "1- Tokenizado: Como cortamos las palabras o el texto en pedacitos, se puede cortar por palabras, por ej. Que se logra con el tokenizado? si tengo una frase, la parte en pedacitos. titoken es el tokenizador que usa chatgpt, se puede instalar con pip. otro tokenizador famoso es sentercpiece.\n",
    "\n",
    "2- Una vez que tengo el texto tokenziado voy a querer asignarle un vector a cada token, a eso lo llamamos embedding. palabras similares deberian tener vectores que apunten de manera similar."
   ]
  }
 ],
 "metadata": {
  "language_info": {
   "name": "python"
  }
 },
 "nbformat": 4,
 "nbformat_minor": 2
}
